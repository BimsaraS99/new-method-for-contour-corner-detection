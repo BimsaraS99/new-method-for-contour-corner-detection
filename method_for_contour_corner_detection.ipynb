{
  "nbformat": 4,
  "nbformat_minor": 0,
  "metadata": {
    "colab": {
      "provenance": [],
      "authorship_tag": "ABX9TyOIcDlkr4xN4u4d0AqRB/Bp",
      "include_colab_link": true
    },
    "kernelspec": {
      "name": "python3",
      "display_name": "Python 3"
    },
    "language_info": {
      "name": "python"
    }
  },
  "cells": [
    {
      "cell_type": "markdown",
      "metadata": {
        "id": "view-in-github",
        "colab_type": "text"
      },
      "source": [
        "<a href=\"https://colab.research.google.com/github/BimsaraS99/new-method-for-contour-corner-detection/blob/main/method_for_contour_corner_detection.ipynb\" target=\"_parent\"><img src=\"https://colab.research.google.com/assets/colab-badge.svg\" alt=\"Open In Colab\"/></a>"
      ]
    },
    {
      "cell_type": "code",
      "source": [
        "import cv2\n",
        "import numpy as np\n",
        "from google.colab.patches import cv2_imshow  # Required to show images in Colab\n",
        "\n",
        "# Path to your image file in Google Drive\n",
        "image_path = '/content/Untitled.png'\n",
        "\n",
        "image = cv2.imread(image_path)\n",
        "gray = cv2.cvtColor(image, cv2.COLOR_BGR2GRAY)\n",
        "\n",
        "_, binary = cv2.threshold(gray, 170, 255, cv2.THRESH_BINARY)\n",
        "\n",
        "# Display the binary image\n",
        "cv2_imshow(binary)"
      ],
      "metadata": {
        "colab": {
          "base_uri": "https://localhost:8080/",
          "height": 741
        },
        "id": "LYJfjas8ltz4",
        "outputId": "b29ee3fe-6243-4a5b-ddfc-07f85594f644"
      },
      "execution_count": 1707,
      "outputs": [
        {
          "output_type": "display_data",
          "data": {
            "text/plain": [
              "<PIL.Image.Image image mode=L size=681x724>"
            ],
            "image/png": "[encoded data removed]"
          },
          "metadata": {}
        }
      ]
    },
    {
      "cell_type": "code",
      "source": [
        "contours, _ = cv2.findContours(binary, cv2.RETR_EXTERNAL, cv2.CHAIN_APPROX_SIMPLE)\n",
        "largest_contour = max(contours, key=cv2.contourArea)\n",
        "\n",
        "epsilon = 0.003 * cv2.arcLength(largest_contour, True)  # Adjust epsilon as needed\n",
        "largest_contour = cv2.approxPolyDP(largest_contour, epsilon, True)"
      ],
      "metadata": {
        "id": "tPxBcWhWnM4B"
      },
      "execution_count": 1708,
      "outputs": []
    },
    {
      "cell_type": "code",
      "source": [
        "original_image = np.zeros_like(image)"
      ],
      "metadata": {
        "id": "PaKFdiL5iuht"
      },
      "execution_count": 1709,
      "outputs": []
    },
    {
      "cell_type": "code",
      "source": [
        "height, width, channels = image.shape\n",
        "\n",
        "# Create a blank image of the same dimensions and type\n",
        "blank_image = np.zeros((height, width, channels), dtype=np.uint8)\n",
        "cv2.drawContours(original_image, [largest_contour], -1, (255, 255, 255), -1)\n"
      ],
      "metadata": {
        "colab": {
          "base_uri": "https://localhost:8080/",
          "height": 763
        },
        "id": "-QqcV32OnyTz",
        "outputId": "bb6143a8-f26a-45d4-8c23-15be53348460"
      },
      "execution_count": 1710,
      "outputs": [
        {
          "output_type": "execute_result",
          "data": {
            "text/plain": [
              "array([[[0, 0, 0],\n",
              "        [0, 0, 0],\n",
              "        [0, 0, 0],\n",
              "        ...,\n",
              "        [0, 0, 0],\n",
              "        [0, 0, 0],\n",
              "        [0, 0, 0]],\n",
              "\n",
              "       [[0, 0, 0],\n",
              "        [0, 0, 0],\n",
              "        [0, 0, 0],\n",
              "        ...,\n",
              "        [0, 0, 0],\n",
              "        [0, 0, 0],\n",
              "        [0, 0, 0]],\n",
              "\n",
              "       [[0, 0, 0],\n",
              "        [0, 0, 0],\n",
              "        [0, 0, 0],\n",
              "        ...,\n",
              "        [0, 0, 0],\n",
              "        [0, 0, 0],\n",
              "        [0, 0, 0]],\n",
              "\n",
              "       ...,\n",
              "\n",
              "       [[0, 0, 0],\n",
              "        [0, 0, 0],\n",
              "        [0, 0, 0],\n",
              "        ...,\n",
              "        [0, 0, 0],\n",
              "        [0, 0, 0],\n",
              "        [0, 0, 0]],\n",
              "\n",
              "       [[0, 0, 0],\n",
              "        [0, 0, 0],\n",
              "        [0, 0, 0],\n",
              "        ...,\n",
              "        [0, 0, 0],\n",
              "        [0, 0, 0],\n",
              "        [0, 0, 0]],\n",
              "\n",
              "       [[0, 0, 0],\n",
              "        [0, 0, 0],\n",
              "        [0, 0, 0],\n",
              "        ...,\n",
              "        [0, 0, 0],\n",
              "        [0, 0, 0],\n",
              "        [0, 0, 0]]], dtype=uint8)"
            ],
            "text/html": [
              "<style>\n",
              "      .ndarray_repr .ndarray_raw_data {\n",
              "        display: none;\n",
              "      }\n",
              "      .ndarray_repr.show_array .ndarray_raw_data {\n",
              "        display: block;\n",
              "      }\n",
              "      .ndarray_repr.show_array .ndarray_image_preview {\n",
              "        display: none;\n",
              "      }\n",
              "      </style>\n",
              "      <div id=\"id-a16675f4-0185-4c81-a487-030962230a27\" class=\"ndarray_repr\"><pre>ndarray (724, 681, 3) <button style=\"padding: 0 2px;\">show data</button></pre><img src=\"data:image/png;base64,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\" class=\"ndarray_image_preview\" /><pre class=\"ndarray_raw_data\">array([[[0, 0, 0],\n",
              "        [0, 0, 0],\n",
              "        [0, 0, 0],\n",
              "        ...,\n",
              "        [0, 0, 0],\n",
              "        [0, 0, 0],\n",
              "        [0, 0, 0]],\n",
              "\n",
              "       [[0, 0, 0],\n",
              "        [0, 0, 0],\n",
              "        [0, 0, 0],\n",
              "        ...,\n",
              "        [0, 0, 0],\n",
              "        [0, 0, 0],\n",
              "        [0, 0, 0]],\n",
              "\n",
              "       [[0, 0, 0],\n",
              "        [0, 0, 0],\n",
              "        [0, 0, 0],\n",
              "        ...,\n",
              "        [0, 0, 0],\n",
              "        [0, 0, 0],\n",
              "        [0, 0, 0]],\n",
              "\n",
              "       ...,\n",
              "\n",
              "       [[0, 0, 0],\n",
              "        [0, 0, 0],\n",
              "        [0, 0, 0],\n",
              "        ...,\n",
              "        [0, 0, 0],\n",
              "        [0, 0, 0],\n",
              "        [0, 0, 0]],\n",
              "\n",
              "       [[0, 0, 0],\n",
              "        [0, 0, 0],\n",
              "        [0, 0, 0],\n",
              "        ...,\n",
              "        [0, 0, 0],\n",
              "        [0, 0, 0],\n",
              "        [0, 0, 0]],\n",
              "\n",
              "       [[0, 0, 0],\n",
              "        [0, 0, 0],\n",
              "        [0, 0, 0],\n",
              "        ...,\n",
              "        [0, 0, 0],\n",
              "        [0, 0, 0],\n",
              "        [0, 0, 0]]], dtype=uint8)</pre></div><script>\n",
              "      (() => {\n",
              "      const titles = ['show data', 'hide data'];\n",
              "      let index = 0\n",
              "      document.querySelector('#id-a16675f4-0185-4c81-a487-030962230a27 button').onclick = (e) => {\n",
              "        document.querySelector('#id-a16675f4-0185-4c81-a487-030962230a27').classList.toggle('show_array');\n",
              "        index = (++index) % 2;\n",
              "        document.querySelector('#id-a16675f4-0185-4c81-a487-030962230a27 button').textContent = titles[index];\n",
              "        e.preventDefault();\n",
              "        e.stopPropagation();\n",
              "      }\n",
              "      })();\n",
              "    </script>"
            ]
          },
          "metadata": {},
          "execution_count": 1710
        }
      ]
    },
    {
      "cell_type": "code",
      "source": [
        "import cv2\n",
        "import numpy as np\n",
        "import matplotlib.pyplot as plt\n",
        "\n",
        "# Load the binary image\n",
        "image = binary\n",
        "\n",
        "# Function to calculate angle between three points\n",
        "def calculate_angle(p1, p2, p3):\n",
        "    a = np.array(p1) - np.array(p2)\n",
        "    b = np.array(p3) - np.array(p2)\n",
        "    angle = np.arctan2(b[1], b[0]) - np.arctan2(a[1], a[0])\n",
        "    angle = np.degrees(angle)\n",
        "    if angle < 0:\n",
        "        angle += 360\n",
        "    return angle\n",
        "\n",
        "# Calculate angles between consecutive points on the contour\n",
        "angles = []\n",
        "for i in range(len(largest_contour)):\n",
        "    p1 = largest_contour[i - 1][0]\n",
        "    p2 = largest_contour[i][0]\n",
        "    p3 = largest_contour[(i + 1) % len(largest_contour)][0]\n",
        "    angle = calculate_angle(p1, p2, p3)\n",
        "    angles.append(angle)\n",
        "\n",
        "# Detect 90-degree corners\n",
        "corners = [i for i, angle in enumerate(angles) if 20 <= angle <= 150 or 220 <= angle <= 340]  # Threshold for 90-degree corners\n",
        "\n",
        "# Draw the contour and highlight 90-degree corners\n",
        "corner_detection_image = cv2.cvtColor(image, cv2.COLOR_GRAY2BGR)\n",
        "for i in corners:\n",
        "    cv2.circle(corner_detection_image, tuple(largest_contour[i][0]), 5, (0, 0, 255), -1)\n",
        "    angle_text = f\"{angles[i]:.1f}°\"\n",
        "    cv2.putText(corner_detection_image, angle_text, tuple(largest_contour[i][0] + np.array([10, 10])), cv2.FONT_HERSHEY_SIMPLEX, 0.5, (255, 0, 0), 1, cv2.LINE_AA)\n",
        "\n",
        "# Display the result\n",
        "plt.figure(figsize=(10, 6))\n",
        "plt.imshow(corner_detection_image)\n",
        "plt.title('90-Degree Corner Detection in Boundary')\n",
        "plt.show()\n"
      ],
      "metadata": {
        "colab": {
          "base_uri": "https://localhost:8080/",
          "height": 545
        },
        "id": "vWBGX4G9e0RY",
        "outputId": "dc2c88df-26d9-4fdc-f814-ce43b7246b06"
      },
      "execution_count": 1711,
      "outputs": [
        {
          "output_type": "display_data",
          "data": {
            "text/plain": [
              "<Figure size 1000x600 with 1 Axes>"
            ],
            "image/png": "[encoded data removed]"
          },
          "metadata": {}
        }
      ]
    }
  ]
}